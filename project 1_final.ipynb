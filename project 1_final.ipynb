{
 "cells": [
  {
   "cell_type": "code",
   "execution_count": 1,
   "metadata": {},
   "outputs": [],
   "source": [
    "import numpy as np\n",
    "import pandas as pd\n",
    "import matplotlib.pyplot as plt\n",
    "import math\n",
    "from scipy.optimize import minimize"
   ]
  },
  {
   "cell_type": "code",
   "execution_count": 2,
   "metadata": {},
   "outputs": [],
   "source": [
    "data = pd.read_csv('E:\\Fall 19\\Projects\\project1.7.csv')\n",
    "\n",
    "X = data.iloc[:, [0, 1, 2]].values\n",
    "\n",
    "Y = data.iloc[:, 3].values\n"
   ]
  },
  {
   "cell_type": "code",
   "execution_count": 3,
   "metadata": {},
   "outputs": [],
   "source": [
    "a0=0.001\n",
    "a1=0.001\n",
    "a2=0.001\n",
    "a3=0.001\n",
    "a4=0.001\n",
    "a5=0.001\n",
    "a6=0.001\n",
    "p1=0.002\n",
    "p2=0.003"
   ]
  },
  {
   "cell_type": "code",
   "execution_count": 5,
   "metadata": {},
   "outputs": [],
   "source": [
    "def null_hypo(coff):\n",
    "    b0,b1,b2,b3,b4,b5,b6,r1,r2 =coff\n",
    "    e=[]\n",
    "    for i in range(len(Y)):\n",
    "        if r1 == 0:\n",
    "            half1=X[:,0][i]\n",
    "        else:\n",
    "            half1 = (1-(math.exp(-(r1*X[:,0][i]))))/r1\n",
    "        if r2 == 0:\n",
    "            half2=X[:,1][i]\n",
    "        else:\n",
    "            half2 = (1-(math.exp(-(r2*X[:,1][i]))))/r2\n",
    "        e.append((Y[i]-(b0+b1*(half1)+b2*(half2)+b3*X[:,2][i]+(b4*X[:,0][i]*X[:,1][i])+(b5*X[:,1][i]*X[:,2][i])+(b6*X[:,0][i]*X[:,2][i])))**2)\n",
    "    return sum(e)"
   ]
  },
  {
   "cell_type": "code",
   "execution_count": 48,
   "metadata": {},
   "outputs": [
    {
     "name": "stdout",
     "output_type": "stream",
     "text": [
      "      fun: 32976651.950288333\n",
      " hess_inv: <9x9 LbfgsInvHessProduct with dtype=float64>\n",
      "      jac: array([-2.08266079e+04, -3.25592235e+05, -1.30117774e+07,  1.04244798e+04,\n",
      "        6.41172007e+05,  3.68334725e+05,  3.70196253e+05,  1.30780451e+06,\n",
      "        2.66716532e+07])\n",
      "  message: b'CONVERGENCE: REL_REDUCTION_OF_F_<=_FACTR*EPSMCH'\n",
      "     nfev: 1730\n",
      "      nit: 101\n",
      "   status: 0\n",
      "  success: True\n",
      "        x: array([ 4.02698015e-02,  5.02401311e-01,  1.16858674e+00, -3.70637635e-02,\n",
      "        3.48644454e-03, -1.12664937e-01, -1.28515408e+00, -6.99852987e-03,\n",
      "        2.90970406e-04])\n"
     ]
    }
   ],
   "source": [
    "bound = ((None, None), (None, None), (None, None), (None, None), (None, None), (None, None), (None, None), (-1, 10), (-0.02, 10))\n",
    "opt_full = minimize(null_hypo, (a0,a1,a2,a3,a4,a5,a6,p1,p2), method = \"L-BFGS-B\", bounds = bound)\n",
    "print(opt_full)"
   ]
  },
  {
   "cell_type": "code",
   "execution_count": 10,
   "metadata": {},
   "outputs": [],
   "source": [
    "def func(coff):\n",
    "    b0,b1,b2,b3,b4,b5,b6,r1,r2 =coff\n",
    "    e=[]\n",
    "    for i in range(len(new_Y)):\n",
    "        if r1 == 0:\n",
    "            half1=new_X[:,0][i]\n",
    "        else:\n",
    "            half1 = (1-(math.exp(-(r1*new_X[:,0][i]))))/r1\n",
    "        if r2 == 0:\n",
    "            half2=new_X[:,1][i]\n",
    "        else:\n",
    "            half2 = (1-(math.exp(-(r2*new_X[:,1][i]))))/r2\n",
    "        e.append((new_Y[i]-(b0+b1*(half1)+b2*(half2)+b3*new_X3[i]+(b4*new_X[:,0][i]*new_X[:,1][i])+(b5*new_X[:,1][i]*new_X3[i])+(b6*new_X[:,0][i]*new_X3[i])))**2)\n",
    "    return sum(e)"
   ]
  },
  {
   "cell_type": "code",
   "execution_count": 11,
   "metadata": {},
   "outputs": [],
   "source": [
    "c0=10\n",
    "c1=0.2\n",
    "c2=1\n",
    "c3=4.5\n",
    "c4=11\n",
    "c5=6\n",
    "c6=7.5\n",
    "q1=0.001\n",
    "q2=0.002\n",
    "n=1000\n",
    "new_Y=[]\n",
    "new_X = np.random.randint(1, 100, size = (n, 2))\n",
    "new_X3 = np.random.choice([0,1], size = n)\n",
    "new_E = np.random.normal(0, 0.1, size = n)\n",
    "for i in range(n):\n",
    "    half1 = (1-(math.exp(-(q1*new_X[:,0][i]))))/q1\n",
    "    half2 = (1-(math.exp(-(q2*new_X[:,1][i]))))/q2\n",
    "    new_Y.append(c0+c1*(half1)+c2*(half2)+c3*new_X3[i]+(c4*new_X[:,0][i]*new_X[:,1][i])+(c5*new_X[:,1][i]*new_X3[i])+(c6*new_X[:,0][i]*new_X3[i]))"
   ]
  },
  {
   "cell_type": "code",
   "execution_count": 12,
   "metadata": {},
   "outputs": [
    {
     "data": {
      "text/plain": [
       "      fun: 0.0001414623574028556\n",
       " hess_inv: <9x9 LbfgsInvHessProduct with dtype=float64>\n",
       "      jac: array([-7.68438930e-03,  1.04324513e+00, -3.70034573e+00,  8.73704785e-02,\n",
       "        1.82003365e+01,  2.31411133e+00,  2.64456781e+00,  8.21845113e+00,\n",
       "        1.05769797e+01])\n",
       "  message: b'CONVERGENCE: REL_REDUCTION_OF_F_<=_FACTR*EPSMCH'\n",
       "     nfev: 5770\n",
       "      nit: 471\n",
       "   status: 0\n",
       "  success: True\n",
       "        x: array([1.00004785e+01, 2.00020379e-01, 9.99945694e-01, 4.50049028e+00,\n",
       "       1.10000000e+01, 5.99999953e+00, 7.49999350e+00, 1.00183732e-03,\n",
       "       1.99898709e-03])"
      ]
     },
     "execution_count": 12,
     "metadata": {},
     "output_type": "execute_result"
    }
   ],
   "source": [
    "bound = ((None, None), (None, None), (None, None), (None, None), (None, None), (None, None), (None, None), (0.0001, 0.002), (0.0001, 0.004))\n",
    "opt = minimize(func, (a0,a1,a2,a3,a4,a5,a6,p1,p2), method = \"L-BFGS-B\", bounds = bound)\n",
    "opt"
   ]
  },
  {
   "cell_type": "markdown",
   "metadata": {},
   "source": [
    "# Alternate Hypothesis"
   ]
  },
  {
   "cell_type": "code",
   "execution_count": 15,
   "metadata": {},
   "outputs": [],
   "source": [
    "def Alt_hypo_b0(coff):\n",
    "    b1,b2,b3,b4,b5,b6,r1,r2 =coff\n",
    "    e=[]\n",
    "    for i in range(len(Y)):\n",
    "        if r1 == 0:\n",
    "            half1=X[:,0][i]\n",
    "        else:\n",
    "            half1 = (1-(math.exp(-(r1*X[:,0][i]))))/r1\n",
    "        if r2 == 0:\n",
    "            half2=X[:,1][i]\n",
    "        else:\n",
    "            half2 = (1-(math.exp(-(r2*X[:,1][i]))))/r2\n",
    "        e.append((Y[i]-(b1*(half1)+b2*(half2)+b3*X[:,2][i]+(b4*X[:,0][i]*X[:,1][i])+(b5*X[:,1][i]*X[:,2][i])+(b6*X[:,0][i]*X[:,2][i])))**2)\n",
    "    return sum(e)"
   ]
  },
  {
   "cell_type": "code",
   "execution_count": 18,
   "metadata": {},
   "outputs": [
    {
     "data": {
      "text/plain": [
       "      fun: 41481048.4915021\n",
       " hess_inv: <8x8 LbfgsInvHessProduct with dtype=float64>\n",
       "      jac: array([-5.46473265e+05, -3.71145226e+07, -2.46927142e+04,  5.64446971e+06,\n",
       "       -2.78450401e+08, -1.56920403e+05,  1.48572028e+04, -1.29904654e+08])\n",
       "  message: b'CONVERGENCE: REL_REDUCTION_OF_F_<=_FACTR*EPSMCH'\n",
       "     nfev: 423\n",
       "      nit: 24\n",
       "   status: 0\n",
       "  success: True\n",
       "        x: array([ 3.23222750e-03,  1.10341202e+00,  9.90322956e-04,  3.50610482e-03,\n",
       "       -1.59694119e-01,  4.34819594e-04,  1.99805605e-03,  2.63717992e-04])"
      ]
     },
     "execution_count": 18,
     "metadata": {},
     "output_type": "execute_result"
    }
   ],
   "source": [
    "bound = ((None, None), (None, None), (None, None), (None, None), (None, None), (None, None), (0.0001, 10), (0.0001, 10))\n",
    "opt_b0 = minimize(Alt_hypo_b0, (a1,a2,a3,a4,a5,a6,p1,p2), method = \"L-BFGS-B\", bounds = bound)\n",
    "opt"
   ]
  },
  {
   "cell_type": "code",
   "execution_count": 23,
   "metadata": {},
   "outputs": [],
   "source": [
    "def Alt_hypo_b1(coff):\n",
    "    b0,b2,b3,b4,b5,b6,r2 =coff\n",
    "    e=[]\n",
    "    for i in range(len(Y)):\n",
    "        if r2 == 0:\n",
    "            half2=X[:,1][i]\n",
    "        else:\n",
    "            half2 = (1-(math.exp(-(r2*X[:,1][i]))))/r2\n",
    "        e.append((Y[i]-(b0+b2*(half2)+b3*X[:,2][i]+(b4*X[:,0][i]*X[:,1][i])+(b5*X[:,1][i]*X[:,2][i])+(b6*X[:,0][i]*X[:,2][i])))**2)\n",
    "    return sum(e)"
   ]
  },
  {
   "cell_type": "code",
   "execution_count": 24,
   "metadata": {},
   "outputs": [
    {
     "data": {
      "text/plain": [
       "      fun: 41483083.18776855\n",
       " hess_inv: <7x7 LbfgsInvHessProduct with dtype=float64>\n",
       "      jac: array([-3.59371305e+04, -3.70868221e+07, -2.46971846e+04,  6.65255859e+06,\n",
       "       -2.78499909e+08, -1.56990439e+05, -1.77491122e+08])\n",
       "  message: b'CONVERGENCE: REL_REDUCTION_OF_F_<=_FACTR*EPSMCH'\n",
       "     nfev: 400\n",
       "      nit: 24\n",
       "   status: 0\n",
       "  success: True\n",
       "        x: array([ 1.33617318e-03,  1.10346731e+00,  9.90343264e-04,  3.50674155e-03,\n",
       "       -1.59702650e-01,  4.34805556e-04,  2.63738433e-04])"
      ]
     },
     "execution_count": 24,
     "metadata": {},
     "output_type": "execute_result"
    }
   ],
   "source": [
    "bound = ((None, None), (None, None), (None, None), (None, None), (None, None), (None, None), (0.0001, 10))\n",
    "opt_b1 = minimize(Alt_hypo_b1, (a0,a1,a3,a4,a5,a6,p2), method = \"L-BFGS-B\", bounds = bound)\n",
    "opt"
   ]
  },
  {
   "cell_type": "code",
   "execution_count": 27,
   "metadata": {},
   "outputs": [],
   "source": [
    "def Alt_hypo_r1(coff):\n",
    "    b0,b1,b2,b3,b4,b5,b6,r2 =coff\n",
    "    e=[]\n",
    "    for i in range(len(Y)):\n",
    "        if r2 == 0:\n",
    "            half2=X[:,1][i]\n",
    "        else:\n",
    "            half2 = (1-(math.exp(-(r2*X[:,1][i]))))/r2\n",
    "        e.append((Y[i]-(b0+b1*(X[:,1][i])+b2*(half2)+b3*X[:,2][i]+(b4*X[:,0][i]*X[:,1][i])+(b5*X[:,1][i]*X[:,2][i])+(b6*X[:,0][i]*X[:,2][i])))**2)\n",
    "    return sum(e)"
   ]
  },
  {
   "cell_type": "code",
   "execution_count": 30,
   "metadata": {},
   "outputs": [
    {
     "name": "stdout",
     "output_type": "stream",
     "text": [
      "      fun: 9843225.598519305\n",
      " hess_inv: <8x8 LbfgsInvHessProduct with dtype=float64>\n",
      "      jac: array([-1.30385160e+01, -6.33118674e+04, -3.55578959e+03,  1.00653619e+04,\n",
      "       -8.31151754e+05, -2.09540129e+04,  3.27116996e+05,  7.22903349e+06])\n",
      "  message: b'CONVERGENCE: REL_REDUCTION_OF_F_<=_FACTR*EPSMCH'\n",
      "     nfev: 1044\n",
      "      nit: 75\n",
      "   status: 0\n",
      "  success: True\n",
      "        x: array([ 3.21347842e-03,  1.88926828e-01,  7.44310450e+00,  1.14588577e-03,\n",
      "        2.84555469e-03, -1.17540573e-01,  1.80965336e-03,  3.60202068e-03])\n"
     ]
    }
   ],
   "source": [
    "bound = ((None, None), (None, None), (None, None), (None, None), (None, None), (None, None), (None, None), (-0.02, None))\n",
    "opt_r1 = minimize(Alt_hypo_r1, (a0,a1,a2,a3,a4,a5,a6,p2), method = \"L-BFGS-B\", bounds = bound)\n",
    "print(opt)"
   ]
  },
  {
   "cell_type": "code",
   "execution_count": 31,
   "metadata": {},
   "outputs": [],
   "source": [
    "def Alt_hypo_b2(coff):\n",
    "    b0,b1,b3,b4,b5,b6,r1 =coff\n",
    "    e=[]\n",
    "    for i in range(len(Y)):\n",
    "        if r1 == 0:\n",
    "            half1=X[:,0][i]\n",
    "        else:\n",
    "            half1 = (1-(math.exp(-(r1*X[:,0][i]))))/r1\n",
    "        e.append((Y[i]-(b0+b1*(half1)+b3*X[:,2][i]+(b4*X[:,0][i]*X[:,1][i])+(b5*X[:,1][i]*X[:,2][i])+(b6*X[:,0][i]*X[:,2][i])))**2)\n",
    "    return sum(e)"
   ]
  },
  {
   "cell_type": "code",
   "execution_count": 32,
   "metadata": {},
   "outputs": [
    {
     "name": "stdout",
     "output_type": "stream",
     "text": [
      "      fun: 56219876.772542536\n",
      " hess_inv: <7x7 LbfgsInvHessProduct with dtype=float64>\n",
      "      jac: array([-2.38418579e+01, -1.26659870e+01,  2.41398811e+02, -6.49502426e+06,\n",
      "        1.04575381e+06,  1.84252858e+03,  5.68777323e+03])\n",
      "  message: b'CONVERGENCE: REL_REDUCTION_OF_F_<=_FACTR*EPSMCH'\n",
      "     nfev: 896\n",
      "      nit: 82\n",
      "   status: 0\n",
      "  success: True\n",
      "        x: array([ 5.78648410e+02,  3.68249883e+03,  2.91968215e+01,  9.21051338e-03,\n",
      "        5.03844713e-02, -8.71312214e+01,  1.70411087e+00])\n"
     ]
    }
   ],
   "source": [
    "bound = ((None, None), (None, None), (None, None), (None, None), (None, None), (None, None), (-1, 10))\n",
    "opt_b2 = minimize(Alt_hypo_b2, (a0,a1,a3,a4,a5,a6,p1), method = \"L-BFGS-B\", bounds = bound)\n",
    "print(opt)"
   ]
  },
  {
   "cell_type": "code",
   "execution_count": 33,
   "metadata": {},
   "outputs": [],
   "source": [
    "def Alt_hypo_r2(coff):\n",
    "    b0,b1,b2,b3,b4,b5,b6,r1 =coff\n",
    "    e=[]\n",
    "    for i in range(len(Y)):\n",
    "        if r1 == 0:\n",
    "            half1=X[:,0][i]\n",
    "        else:\n",
    "            half1 = (1-(math.exp(-(r1*X[:,0][i]))))/r1\n",
    "        e.append((Y[i]-(b0+b1*(X[:,1][i])+b2*X[:,1][i]+b3*X[:,2][i]+(b4*X[:,0][i]*X[:,1][i])+(b5*X[:,1][i]*X[:,2][i])+(b6*X[:,0][i]*X[:,2][i])))**2)\n",
    "    return sum(e)"
   ]
  },
  {
   "cell_type": "code",
   "execution_count": 34,
   "metadata": {},
   "outputs": [
    {
     "name": "stdout",
     "output_type": "stream",
     "text": [
      "      fun: 300105966.3224483\n",
      " hess_inv: <8x8 LbfgsInvHessProduct with dtype=float64>\n",
      "      jac: array([-2.68900394e+05, -2.71648169e+05, -2.71654129e+05, -2.31862068e+03,\n",
      "       -4.99476194e+06, -2.18749046e+04,  4.09621000e+05,  0.00000000e+00])\n",
      "  message: b'CONVERGENCE: REL_REDUCTION_OF_F_<=_FACTR*EPSMCH'\n",
      "     nfev: 369\n",
      "      nit: 33\n",
      "   status: 0\n",
      "  success: True\n",
      "        x: array([ 1.16321292e+02,  2.22161349e-01,  2.22161351e-01,  9.08652171e+00,\n",
      "        1.76127554e-03, -2.61723577e-01,  7.63938199e+01,  2.00000000e-03])\n"
     ]
    }
   ],
   "source": [
    "bound = ((None, None), (None, None), (None, None), (None, None), (None, None), (None, None), (None, None), (-1, 10))\n",
    "opt_r2 = minimize(Alt_hypo_r2, (a0,a1,a2,a3,a4,a5,a6,p1), method = \"L-BFGS-B\", bounds = bound)\n",
    "print(opt)"
   ]
  },
  {
   "cell_type": "code",
   "execution_count": 35,
   "metadata": {},
   "outputs": [],
   "source": [
    "def Alt_hypo_b3(coff):\n",
    "    b0,b1,b2,b4,b5,b6,r1,r2 =coff\n",
    "    e=[]\n",
    "    for i in range(len(Y)):\n",
    "        if r1 == 0:\n",
    "            half1=X[:,0][i]\n",
    "        else:\n",
    "            half1 = (1-(math.exp(-(r1*X[:,0][i]))))/r1\n",
    "        if r2 == 0:\n",
    "            half2=X[:,1][i]\n",
    "        else:\n",
    "            half2 = (1-(math.exp(-(r2*X[:,1][i]))))/r2\n",
    "        e.append((Y[i]-(b0+b1*(half1)+b2*(half2)+(b4*X[:,0][i]*X[:,1][i])+(b5*X[:,1][i]*X[:,2][i])+(b6*X[:,0][i]*X[:,2][i])))**2)\n",
    "    return sum(e)"
   ]
  },
  {
   "cell_type": "code",
   "execution_count": 36,
   "metadata": {},
   "outputs": [
    {
     "name": "stdout",
     "output_type": "stream",
     "text": [
      "      fun: 34488086.824897304\n",
      " hess_inv: <8x8 LbfgsInvHessProduct with dtype=float64>\n",
      "      jac: array([-1.97499990e+04, -2.88033485e+05, -1.11829460e+07,  2.46973857e+06,\n",
      "       -1.10249513e+08,  1.80929899e+05,  6.37248158e+03,  9.93141785e+07])\n",
      "  message: b'CONVERGENCE: REL_REDUCTION_OF_F_<=_FACTR*EPSMCH'\n",
      "     nfev: 522\n",
      "      nit: 25\n",
      "   status: 0\n",
      "  success: True\n",
      "        x: array([ 1.26269405e-03,  2.85556553e-03,  1.17651159e+00,  3.55953114e-03,\n",
      "       -1.32570184e-01,  5.75460446e-04,  1.99694177e-03,  2.91835940e-04])\n"
     ]
    }
   ],
   "source": [
    "bound = ((None, None), (None, None), (None, None), (None, None), (None, None), (None, None), (-1, 10), (-0.02, 10))\n",
    "opt_b3 = minimize(Alt_hypo_b3, (a0,a1,a2,a4,a5,a6,p1,p2), method = \"L-BFGS-B\", bounds = bound)\n",
    "print(opt)"
   ]
  },
  {
   "cell_type": "code",
   "execution_count": 37,
   "metadata": {},
   "outputs": [],
   "source": [
    "def Alt_hypo_b4(coff):\n",
    "    b0,b1,b2,b3,b5,b6,r1,r2 =coff\n",
    "    e=[]\n",
    "    for i in range(len(Y)):\n",
    "        if r1 == 0:\n",
    "            half1=X[:,0][i]\n",
    "        else:\n",
    "            half1 = (1-(math.exp(-(r1*X[:,0][i]))))/r1\n",
    "        if r2 == 0:\n",
    "            half2=X[:,1][i]\n",
    "        else:\n",
    "            half2 = (1-(math.exp(-(r2*X[:,1][i]))))/r2\n",
    "        e.append((Y[i]-(b0+b1*(half1)+b2*(half2)+b3*X[:,2][i]+(b5*X[:,1][i]*X[:,2][i])+(b6*X[:,0][i]*X[:,2][i])))**2)\n",
    "    return sum(e)"
   ]
  },
  {
   "cell_type": "code",
   "execution_count": 38,
   "metadata": {},
   "outputs": [
    {
     "name": "stdout",
     "output_type": "stream",
     "text": [
      "      fun: 45072762.95044249\n",
      " hess_inv: <8x8 LbfgsInvHessProduct with dtype=float64>\n",
      "      jac: array([  -16375.63109398, -1044205.57618141,    11871.01006508,\n",
      "          10792.9110527 ,    17431.37836456,   282922.38712311,\n",
      "         165199.48840141, -1192645.7285881 ])\n",
      "  message: b'CONVERGENCE: REL_REDUCTION_OF_F_<=_FACTR*EPSMCH'\n",
      "     nfev: 585\n",
      "      nit: 41\n",
      "   status: 0\n",
      "  success: True\n",
      "        x: array([ 1.73579894e-03,  1.19910269e-02,  1.18552008e+00,  9.99106671e-04,\n",
      "       -1.14402862e-01,  9.68893454e-04,  1.77536565e-03,  2.52905867e-04])\n"
     ]
    }
   ],
   "source": [
    "bound = ((None, None), (None, None), (None, None), (None, None), (None, None), (None, None), (-1, 10), (-0.02, 10))\n",
    "opt_b4 = minimize(Alt_hypo_b4, (a0,a1,a2,a3,a5,a6,p1,p2), method = \"L-BFGS-B\", bounds = bound)\n",
    "print(opt)"
   ]
  },
  {
   "cell_type": "code",
   "execution_count": 39,
   "metadata": {},
   "outputs": [],
   "source": [
    "def Alt_hypo_b5(coff):\n",
    "    b0,b1,b2,b3,b4,b6,r1,r2 =coff\n",
    "    e=[]\n",
    "    for i in range(len(Y)):\n",
    "        if r1 == 0:\n",
    "            half1=X[:,0][i]\n",
    "        else:\n",
    "            half1 = (1-(math.exp(-(r1*X[:,0][i]))))/r1\n",
    "        if r2 == 0:\n",
    "            half2=X[:,1][i]\n",
    "        else:\n",
    "            half2 = (1-(math.exp(-(r2*X[:,1][i]))))/r2\n",
    "        e.append((Y[i]-(b0+b1*(half1)+b2*(half2)+b3*X[:,2][i]+(b4*X[:,0][i]*X[:,1][i])+(b6*X[:,0][i]*X[:,2][i])))**2)\n",
    "    return sum(e)"
   ]
  },
  {
   "cell_type": "code",
   "execution_count": 40,
   "metadata": {},
   "outputs": [
    {
     "name": "stdout",
     "output_type": "stream",
     "text": [
      "      fun: 74591258.45932165\n",
      " hess_inv: <8x8 LbfgsInvHessProduct with dtype=float64>\n",
      "      jac: array([-1.08540058e+04, -1.17015839e+05,  2.54122913e+05,  9.88602638e+04,\n",
      "        8.53417367e+06,  1.71031654e+06,  1.31875277e+03, -6.24929619e+08])\n",
      "  message: b'CONVERGENCE: REL_REDUCTION_OF_F_<=_FACTR*EPSMCH'\n",
      "     nfev: 639\n",
      "      nit: 35\n",
      "   status: 0\n",
      "  success: True\n",
      "        x: array([1.26917024e-03, 2.90895410e-03, 1.24025422e+00, 9.88529983e-04,\n",
      "       3.59319774e-03, 5.08333354e-04, 1.99657088e-03, 3.29036243e-04])\n"
     ]
    }
   ],
   "source": [
    "bound = ((None, None), (None, None), (None, None), (None, None), (None, None), (None, None), (-1, 10), (-0.02, 10))\n",
    "opt_b5 = minimize(Alt_hypo_b5, (a0,a1,a2,a3,a4,a6,p1,p2), method = \"L-BFGS-B\", bounds = bound)\n",
    "print(opt)"
   ]
  },
  {
   "cell_type": "code",
   "execution_count": 41,
   "metadata": {},
   "outputs": [],
   "source": [
    "def Alt_hypo_b6(coff):\n",
    "    b0,b1,b2,b3,b4,b5,r1,r2 =coff\n",
    "    e=[]\n",
    "    for i in range(len(Y)):\n",
    "        if r1 == 0:\n",
    "            half1=X[:,0][i]\n",
    "        else:\n",
    "            half1 = (1-(math.exp(-(r1*X[:,0][i]))))/r1\n",
    "        if r2 == 0:\n",
    "            half2=X[:,1][i]\n",
    "        else:\n",
    "            half2 = (1-(math.exp(-(r2*X[:,1][i]))))/r2\n",
    "        e.append((Y[i]-(b0+b1*(half1)+b2*(half2)+b3*X[:,2][i]+(b4*X[:,0][i]*X[:,1][i])+(b5*X[:,1][i]*X[:,2][i])))**2)\n",
    "    return sum(e)"
   ]
  },
  {
   "cell_type": "code",
   "execution_count": 42,
   "metadata": {},
   "outputs": [
    {
     "name": "stdout",
     "output_type": "stream",
     "text": [
      "      fun: 33276297.901037637\n",
      " hess_inv: <8x8 LbfgsInvHessProduct with dtype=float64>\n",
      "      jac: array([-1.20967627e+04, -1.55062228e+05,  2.16066837e+03,  1.18028373e+04,\n",
      "        7.69119710e+04,  1.28000975e+03,  2.82377005e+03, -4.71157916e+06])\n",
      "  message: b'CONVERGENCE: REL_REDUCTION_OF_F_<=_FACTR*EPSMCH'\n",
      "     nfev: 774\n",
      "      nit: 50\n",
      "   status: 0\n",
      "  success: True\n",
      "        x: array([ 1.27508856e-03,  2.97333266e-03,  1.21824761e+00,  9.92820011e-04,\n",
      "        3.62638939e-03, -1.14753158e-01,  1.99555406e-03,  3.08723318e-04])\n"
     ]
    }
   ],
   "source": [
    "bound = ((None, None), (None, None), (None, None), (None, None), (None, None), (None, None), (-1, 10), (-0.02, 10))\n",
    "opt_b6 = minimize(Alt_hypo_b6, (a0,a1,a2,a3,a4,a5,p1,p2), method = \"L-BFGS-B\", bounds = bound)\n",
    "print(opt)"
   ]
  },
  {
   "cell_type": "code",
   "execution_count": 55,
   "metadata": {},
   "outputs": [],
   "source": [
    "def log_li_full(b):\n",
    "    e=[]\n",
    "    for i in range(len(Y)):\n",
    "        if b[7] == 0:\n",
    "            half1=X[:,0][i]\n",
    "        else:\n",
    "            half1 = (1-(math.exp(-(b[7]*X[:,0][i]))))/b[7]\n",
    "        if b[8] == 0:\n",
    "            half2=X[:,1][i]\n",
    "        else:\n",
    "            half2 = (1-(math.exp(-(b[8]*X[:,1][i]))))/b[8]\n",
    "        e.append((Y[i]-(b[0]+b[1]*(half1)+b[2]*(half2)+b[3]*X[:,2][i]+(b[4]*X[:,0][i]*X[:,1][i])+(b[5]*X[:,1][i]*X[:,2][i])+(b[6]*X[:,0][i]*X[:,2][i])))**2)\n",
    "    value = -(len(Y)/2)*(math.log(sum(e))+1+math.log(2*3.14)-math.log(len(Y)))\n",
    "    return value"
   ]
  },
  {
   "cell_type": "code",
   "execution_count": null,
   "metadata": {},
   "outputs": [],
   "source": [
    "def log_li_b0(b):\n",
    "    e=[]\n",
    "    for i in range(len(Y)):\n",
    "        if b[6] == 0:\n",
    "            half1=X[:,0][i]\n",
    "        else:\n",
    "            half1 = (1-(math.exp(-(b[6]*X[:,0][i]))))/b[6]\n",
    "        if b[7] == 0:\n",
    "            half2=X[:,1][i]\n",
    "        else:\n",
    "            half2 = (1-(math.exp(-(b[7]*X[:,1][i]))))/b[7]\n",
    "        e.append((Y[i]-(b[0]*(half1)+b[1]*(half2)+b[2]*X[:,2][i]+(b[3]*X[:,0][i]*X[:,1][i])+(b[4]*X[:,1][i]*X[:,2][i])+(b[5]*X[:,0][i]*X[:,2][i])))**2)\n",
    "    value = -(len(Y)/2)*(math.log(sum(e))+1+math.log(2*3.14)-math.log(len(Y)))\n",
    "    return value"
   ]
  },
  {
   "cell_type": "code",
   "execution_count": null,
   "metadata": {},
   "outputs": [],
   "source": [
    "def log_li_b1(b):\n",
    "    e=[]\n",
    "    for i in range(len(Y)):\n",
    "        if b[6] == 0:\n",
    "            half2=X[:,1][i]\n",
    "        else:\n",
    "            half2 = (1-(math.exp(-(b[6]*X[:,1][i]))))/b[6]\n",
    "        e.append((Y[i]-(b[0]+b[1]*(half2)+b[2]*X[:,2][i]+(b[3]*X[:,0][i]*X[:,1][i])+(b[4]*X[:,1][i]*X[:,2][i])+(b[5]*X[:,0][i]*X[:,2][i])))**2)\n",
    "    value = -(len(Y)/2)*(math.log(sum(e))+1+math.log(2*3.14)-math.log(len(Y)))\n",
    "    return value"
   ]
  },
  {
   "cell_type": "code",
   "execution_count": null,
   "metadata": {},
   "outputs": [],
   "source": [
    "def log_li_r1(b):\n",
    "    e=[]\n",
    "    for i in range(len(Y)):\n",
    "        if b[7] == 0:\n",
    "            half2=X[:,1][i]\n",
    "        else:\n",
    "            half2 = (1-(math.exp(-(b[7]*X[:,1][i]))))/b[7]\n",
    "        e.append((Y[i]-(b[0]+b[1]*X[:,0][i]+b[2]*(half2)+b[3]*X[:,2][i]+(b[4]*X[:,0][i]*X[:,1][i])+(b[5]*X[:,1][i]*X[:,2][i])+(b[6]*X[:,0][i]*X[:,2][i])))**2)\n",
    "    value = -(len(Y)/2)*(math.log(sum(e))+1+math.log(2*3.14)-math.log(len(Y)))\n",
    "    return value"
   ]
  },
  {
   "cell_type": "code",
   "execution_count": null,
   "metadata": {},
   "outputs": [],
   "source": [
    "def log_li_b2(b):\n",
    "    e=[]\n",
    "    for i in range(len(Y)):\n",
    "        if b[6] == 0:\n",
    "            half1=X[:,0][i]\n",
    "        else:\n",
    "            half1 = (1-(math.exp(-(b[6]*X[:,0][i]))))/b[6]\n",
    "        e.append((Y[i]-(b[0]+b[1]*(half1)+b[2]*X[:,2][i]+(b[3]*X[:,0][i]*X[:,1][i])+(b[4]*X[:,1][i]*X[:,2][i])+(b[5]*X[:,0][i]*X[:,2][i])))**2)\n",
    "    value = -(len(Y)/2)*(math.log(sum(e))+1+math.log(2*3.14)-math.log(len(Y)))\n",
    "    return value"
   ]
  },
  {
   "cell_type": "code",
   "execution_count": null,
   "metadata": {},
   "outputs": [],
   "source": [
    "def log_li_r2(b):\n",
    "    e=[]\n",
    "    for i in range(len(Y)):\n",
    "        if b[7] == 0:\n",
    "            half1=X[:,0][i]\n",
    "        else:\n",
    "            half1 = (1-(math.exp(-(b[7]*X[:,0][i]))))/b[7]\n",
    "        e.append((Y[i]-(b[0]+b[1]*(half1)+b[2]*X[:,1][i]+b[3]*X[:,2][i]+(b[4]*X[:,0][i]*X[:,1][i])+(b[5]*X[:,1][i]*X[:,2][i])+(b[6]*X[:,0][i]*X[:,2][i])))**2)\n",
    "    value = -(len(Y)/2)*(math.log(sum(e))+1+math.log(2*3.14)-math.log(len(Y)))\n",
    "    return value"
   ]
  },
  {
   "cell_type": "code",
   "execution_count": null,
   "metadata": {},
   "outputs": [],
   "source": [
    "def log_li_b3(b):\n",
    "    e=[]\n",
    "    for i in range(len(Y)):\n",
    "        if b[6] == 0:\n",
    "            half1=X[:,0][i]\n",
    "        else:\n",
    "            half1 = (1-(math.exp(-(b[6]*X[:,0][i]))))/b[6]\n",
    "        if b[7] == 0:\n",
    "            half2=X[:,1][i]\n",
    "        else:\n",
    "            half2 = (1-(math.exp(-(b[7]*X[:,1][i]))))/b[7]\n",
    "        e.append((Y[i]-(b[0]+b[1]*(half1)+b[2]*(half2)+(b[3]*X[:,0][i]*X[:,1][i])+(b[4]*X[:,1][i]*X[:,2][i])+(b[5]*X[:,0][i]*X[:,2][i])))**2)\n",
    "    value = -(len(Y)/2)*(math.log(sum(e))+1+math.log(2*3.14)-math.log(len(Y)))\n",
    "    return value"
   ]
  },
  {
   "cell_type": "code",
   "execution_count": null,
   "metadata": {},
   "outputs": [],
   "source": [
    "def log_li_b4(b):\n",
    "    e=[]\n",
    "    for i in range(len(Y)):\n",
    "        if b[6] == 0:\n",
    "            half1=X[:,0][i]\n",
    "        else:\n",
    "            half1 = (1-(math.exp(-(b[6]*X[:,0][i]))))/b[6]\n",
    "        if b[7] == 0:\n",
    "            half2=X[:,1][i]\n",
    "        else:\n",
    "            half2 = (1-(math.exp(-(b[7]*X[:,1][i]))))/b[7]\n",
    "        e.append((Y[i]-(b[0]+b[1]*(half1)+b[2]*(half2)+b[3]*X[:,2][i]+(b[4]*X[:,1][i]*X[:,2][i])+(b[5]*X[:,0][i]*X[:,2][i])))**2)\n",
    "    value = -(len(Y)/2)*(math.log(sum(e))+1+math.log(2*3.14)-math.log(len(Y)))\n",
    "    return value"
   ]
  },
  {
   "cell_type": "code",
   "execution_count": null,
   "metadata": {},
   "outputs": [],
   "source": [
    "def log_li_b5(b):\n",
    "    e=[]\n",
    "    for i in range(len(Y)):\n",
    "        if b[6] == 0:\n",
    "            half1=X[:,0][i]\n",
    "        else:\n",
    "            half1 = (1-(math.exp(-(b[6]*X[:,0][i]))))/b[6]\n",
    "        if b[7] == 0:\n",
    "            half2=X[:,1][i]\n",
    "        else:\n",
    "            half2 = (1-(math.exp(-(b[7]*X[:,1][i]))))/b[7]\n",
    "        e.append((Y[i]-(b[0]+b[1]*(half1)+b[2]*(half2)+b[3]*X[:,2][i]+(b[4]*X[:,0][i]*X[:,1][i])+(b[5]*X[:,0][i]*X[:,2][i])))**2)\n",
    "    value = -(len(Y)/2)*(math.log(sum(e))+1+math.log(2*3.14)-math.log(len(Y)))\n",
    "    return value"
   ]
  },
  {
   "cell_type": "code",
   "execution_count": null,
   "metadata": {},
   "outputs": [],
   "source": [
    "def log_li_b6(b):\n",
    "    e=[]\n",
    "    for i in range(len(Y)):\n",
    "        if b[6] == 0:\n",
    "            half1=X[:,0][i]\n",
    "        else:\n",
    "            half1 = (1-(math.exp(-(b[6]*X[:,0][i]))))/b[6]\n",
    "        if b[7] == 0:\n",
    "            half2=X[:,1][i]\n",
    "        else:\n",
    "            half2 = (1-(math.exp(-(b[7]*X[:,1][i]))))/b[7]\n",
    "        e.append((Y[i]-(b[0]+b[1]*(half1)+b[2]*(half2)+b[3]*X[:,2][i]+(b[4]*X[:,0][i]*X[:,1][i])+(b[5]*X[:,1][i]*X[:,2][i])))**2)\n",
    "    value = -(len(Y)/2)*(math.log(sum(e))+1+math.log(2*3.14)-math.log(len(Y)))\n",
    "    return value"
   ]
  }
 ],
 "metadata": {
  "kernelspec": {
   "display_name": "Python 3",
   "language": "python",
   "name": "python3"
  },
  "language_info": {
   "codemirror_mode": {
    "name": "ipython",
    "version": 3
   },
   "file_extension": ".py",
   "mimetype": "text/x-python",
   "name": "python",
   "nbconvert_exporter": "python",
   "pygments_lexer": "ipython3",
   "version": "3.7.1"
  }
 },
 "nbformat": 4,
 "nbformat_minor": 2
}
